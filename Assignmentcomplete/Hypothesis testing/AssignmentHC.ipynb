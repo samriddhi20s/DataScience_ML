{
  "nbformat": 4,
  "nbformat_minor": 0,
  "metadata": {
    "colab": {
      "provenance": []
    },
    "kernelspec": {
      "name": "python3",
      "display_name": "Python 3"
    },
    "language_info": {
      "name": "python"
    }
  },
  "cells": [
    {
      "cell_type": "markdown",
      "source": [
        "Chi-Square Test"
      ],
      "metadata": {
        "id": "xFi3Gyf1Wyos"
      }
    },
    {
      "cell_type": "code",
      "execution_count": 2,
      "metadata": {
        "colab": {
          "base_uri": "https://localhost:8080/"
        },
        "id": "h_IEf4UUVLrA",
        "outputId": "767e024e-71e7-49fa-f92d-fd1cad66729a"
      },
      "outputs": [
        {
          "output_type": "stream",
          "name": "stdout",
          "text": [
            "\n",
            "Chi-Square Test for Independence\n",
            "\n",
            "1. Hypotheses:\n",
            "   Null Hypothesis (H0): There is no significant association between the type of smart home device purchased and the customer's satisfaction level.\n",
            "   Alternative Hypothesis (H1): There is a significant association between the type of smart home device purchased and the customer's satisfaction level.\n",
            "\n",
            "2. Chi-Square Statistic:\n",
            "   Chi2 Statistic: 5.638227513227513\n",
            "   Degrees of Freedom: 4\n",
            "   P-Value: 0.22784371130697179\n",
            "   Expected Frequencies:\n",
            "[[ 48.  72.  60.  32.  28.]\n",
            " [ 72. 108.  90.  48.  42.]]\n",
            "\n",
            "3. Critical Value:\n",
            "   Significance Level (alpha): 0.05\n",
            "   Critical Value: 9.487729036781154\n",
            "\n",
            "4. Decision:\n",
            "   Since the Chi-Square statistic (5.638227513227513) is not greater than the critical value (9.487729036781154), we fail to reject the null hypothesis. There is no significant association between the type of smart home device purchased and the customer's satisfaction level.\n"
          ]
        }
      ],
      "source": [
        "import numpy as np\n",
        "import pandas as pd\n",
        "from scipy.stats import chi2\n",
        "from scipy.stats import chi2_contingency\n",
        "\n",
        "\n",
        "data = {\n",
        "    \"Satisfaction\": [\"Very Satisfied\", \"Satisfied\", \"Neutral\", \"Unsatisfied\", \"Very Unsatisfied\"],\n",
        "    \"Smart Thermostat\": [50, 80, 60, 30, 20],\n",
        "    \"Smart Light\": [70, 100, 90, 50, 50]\n",
        "}\n",
        "\n",
        "# Creating a DataFrame\n",
        "df = pd.DataFrame(data)\n",
        "\n",
        "# Contingency Table\n",
        "contingency_table = df.set_index(\"Satisfaction\").T\n",
        "\n",
        "# Chi-Square Test\n",
        "chi2_stat, p_val, dof, expected = chi2_contingency(contingency_table)\n",
        "\n",
        "# Significance Level\n",
        "alpha = 0.05\n",
        "\n",
        "# Critical Value\n",
        "critical_value = chi2.ppf(1 - alpha, dof)\n",
        "\n",
        "# Report\n",
        "report = f\"\"\"\n",
        "Chi-Square Test for Independence\n",
        "\n",
        "1. Hypotheses:\n",
        "   Null Hypothesis (H0): There is no significant association between the type of smart home device purchased and the customer's satisfaction level.\n",
        "   Alternative Hypothesis (H1): There is a significant association between the type of smart home device purchased and the customer's satisfaction level.\n",
        "\n",
        "2. Chi-Square Statistic:\n",
        "   Chi2 Statistic: {chi2_stat}\n",
        "   Degrees of Freedom: {dof}\n",
        "   P-Value: {p_val}\n",
        "   Expected Frequencies:\n",
        "{expected}\n",
        "\n",
        "3. Critical Value:\n",
        "   Significance Level (alpha): {alpha}\n",
        "   Critical Value: {critical_value}\n",
        "\n",
        "4. Decision:\n",
        "\"\"\"\n",
        "if chi2_stat > critical_value:\n",
        "    report += f\"   Since the Chi-Square statistic ({chi2_stat}) is greater than the critical value ({critical_value}), we reject the null hypothesis. There is a significant association between the type of smart home device purchased and the customer's satisfaction level.\"\n",
        "else:\n",
        "    report += f\"   Since the Chi-Square statistic ({chi2_stat}) is not greater than the critical value ({critical_value}), we fail to reject the null hypothesis. There is no significant association between the type of smart home device purchased and the customer's satisfaction level.\"\n",
        "\n",
        "print(report)\n"
      ]
    },
    {
      "cell_type": "markdown",
      "source": [
        "Hypothesis testing\n"
      ],
      "metadata": {
        "id": "pHbGojG3Yhsr"
      }
    },
    {
      "cell_type": "code",
      "source": [
        "import math\n",
        "from scipy.stats import norm\n",
        "\n",
        "# Given data\n",
        "sample_mean = 3050\n",
        "X = 600\n",
        "mu_theoretical = 1000 + 5 * X\n",
        "sigma = 5 * 25  # 5 * standard deviation of units produced\n",
        "n = 25\n",
        "alpha = 0.05\n",
        "\n",
        "# Calculate the standard error\n",
        "standard_error = sigma / math.sqrt(n)\n",
        "\n",
        "# Calculate the test statistic (t)\n",
        "t_stat = (sample_mean - mu_theoretical) / standard_error\n",
        "\n",
        "# Critical value from the Z-distribution\n",
        "critical_value = norm.ppf(1 - alpha)\n",
        "\n",
        "# Report\n",
        "report = f\"\"\"\n",
        "Hypothesis Testing\n",
        "\n",
        "1. Hypotheses:\n",
        "   Null Hypothesis (H0): The mean weekly operating cost is equal to the theoretical cost (W = 1000 + 5X).\n",
        "   Alternative Hypothesis (H1): The mean weekly operating cost is greater than the theoretical cost.\n",
        "\n",
        "2. Test Statistic:\n",
        "   Sample Mean (ˉx): {sample_mean}\n",
        "   Theoretical Mean (μ): {mu_theoretical}\n",
        "   Standard Deviation (σ): {sigma}\n",
        "   Sample Size (n): {n}\n",
        "   Standard Error: {standard_error}\n",
        "   t-Statistic: {t_stat}\n",
        "\n",
        "3. Critical Value:\n",
        "   Significance Level (α): {alpha}\n",
        "   Critical Value from Z-distribution: {critical_value}\n",
        "\n",
        "4. Decision:\n",
        "   Since the t-statistic ({t_stat}) is {\"greater\" if t_stat > critical_value else \"less\"} than the critical value ({critical_value}),\n",
        "   we {\"reject\" if t_stat > critical_value else \"fail to reject\"} the null hypothesis.\n",
        "\n",
        "5. Conclusion:\n",
        "   Based on the decision, we conclude that {\"there is strong evidence\" if t_stat > critical_value else \"there is no strong evidence\"} to support the restaurant owners' claim that the weekly operating costs are higher than the model suggests.\n",
        "\"\"\"\n",
        "\n",
        "print(report)\n"
      ],
      "metadata": {
        "colab": {
          "base_uri": "https://localhost:8080/"
        },
        "id": "zFhAWV0yYepI",
        "outputId": "d6339733-fde1-46d8-d47f-5ded55d9e0ce"
      },
      "execution_count": 3,
      "outputs": [
        {
          "output_type": "stream",
          "name": "stdout",
          "text": [
            "\n",
            "Hypothesis Testing\n",
            "\n",
            "1. Hypotheses:\n",
            "   Null Hypothesis (H0): The mean weekly operating cost is equal to the theoretical cost (W = 1000 + 5X).\n",
            "   Alternative Hypothesis (H1): The mean weekly operating cost is greater than the theoretical cost.\n",
            "\n",
            "2. Test Statistic:\n",
            "   Sample Mean (ˉx): 3050\n",
            "   Theoretical Mean (μ): 4000\n",
            "   Standard Deviation (σ): 125\n",
            "   Sample Size (n): 25\n",
            "   Standard Error: 25.0\n",
            "   t-Statistic: -38.0\n",
            "\n",
            "3. Critical Value:\n",
            "   Significance Level (α): 0.05\n",
            "   Critical Value from Z-distribution: 1.6448536269514722\n",
            "\n",
            "4. Decision:\n",
            "   Since the t-statistic (-38.0) is less than the critical value (1.6448536269514722),\n",
            "   we fail to reject the null hypothesis.\n",
            "\n",
            "5. Conclusion:\n",
            "   Based on the decision, we conclude that there is no strong evidence to support the restaurant owners' claim that the weekly operating costs are higher than the model suggests.\n",
            "\n"
          ]
        }
      ]
    }
  ]
}