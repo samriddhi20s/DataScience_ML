{
  "nbformat": 4,
  "nbformat_minor": 0,
  "metadata": {
    "colab": {
      "provenance": []
    },
    "kernelspec": {
      "name": "python3",
      "display_name": "Python 3"
    },
    "language_info": {
      "name": "python"
    }
  },
  "cells": [
    {
      "cell_type": "code",
      "source": [
        "import mlxtend"
      ],
      "metadata": {
        "colab": {
          "base_uri": "https://localhost:8080/"
        },
        "id": "mIvukWboFITW",
        "outputId": "85cf9c43-4ee9-49b8-9e6a-0496bbdfd01f"
      },
      "execution_count": 5,
      "outputs": [
        {
          "output_type": "stream",
          "name": "stderr",
          "text": [
            "/usr/local/lib/python3.10/dist-packages/ipykernel/ipkernel.py:283: DeprecationWarning: `should_run_async` will not call `transform_cell` automatically in the future. Please pass the result to `transformed_cell` argument and any exception that happen during thetransform in `preprocessing_exc_tuple` in IPython 7.17 and above.\n",
            "  and should_run_async(code)\n"
          ]
        }
      ]
    },
    {
      "cell_type": "code",
      "source": [
        "pip install --upgrade mlxtend\n"
      ],
      "metadata": {
        "colab": {
          "base_uri": "https://localhost:8080/"
        },
        "id": "LXzhmXQNEkFr",
        "outputId": "b4f1da3f-768c-41aa-868c-f6858b589c41"
      },
      "execution_count": 8,
      "outputs": [
        {
          "output_type": "stream",
          "name": "stderr",
          "text": [
            "/usr/local/lib/python3.10/dist-packages/ipykernel/ipkernel.py:283: DeprecationWarning: `should_run_async` will not call `transform_cell` automatically in the future. Please pass the result to `transformed_cell` argument and any exception that happen during thetransform in `preprocessing_exc_tuple` in IPython 7.17 and above.\n",
            "  and should_run_async(code)\n"
          ]
        },
        {
          "output_type": "stream",
          "name": "stdout",
          "text": [
            "Requirement already satisfied: mlxtend in /usr/local/lib/python3.10/dist-packages (0.23.3)\n",
            "Requirement already satisfied: scipy>=1.2.1 in /usr/local/lib/python3.10/dist-packages (from mlxtend) (1.13.1)\n",
            "Requirement already satisfied: numpy>=1.16.2 in /usr/local/lib/python3.10/dist-packages (from mlxtend) (1.26.4)\n",
            "Requirement already satisfied: pandas>=0.24.2 in /usr/local/lib/python3.10/dist-packages (from mlxtend) (2.2.2)\n",
            "Requirement already satisfied: scikit-learn>=1.3.1 in /usr/local/lib/python3.10/dist-packages (from mlxtend) (1.6.0)\n",
            "Requirement already satisfied: matplotlib>=3.0.0 in /usr/local/lib/python3.10/dist-packages (from mlxtend) (3.8.0)\n",
            "Requirement already satisfied: joblib>=0.13.2 in /usr/local/lib/python3.10/dist-packages (from mlxtend) (1.4.2)\n",
            "Requirement already satisfied: contourpy>=1.0.1 in /usr/local/lib/python3.10/dist-packages (from matplotlib>=3.0.0->mlxtend) (1.3.1)\n",
            "Requirement already satisfied: cycler>=0.10 in /usr/local/lib/python3.10/dist-packages (from matplotlib>=3.0.0->mlxtend) (0.12.1)\n",
            "Requirement already satisfied: fonttools>=4.22.0 in /usr/local/lib/python3.10/dist-packages (from matplotlib>=3.0.0->mlxtend) (4.55.3)\n",
            "Requirement already satisfied: kiwisolver>=1.0.1 in /usr/local/lib/python3.10/dist-packages (from matplotlib>=3.0.0->mlxtend) (1.4.7)\n",
            "Requirement already satisfied: packaging>=20.0 in /usr/local/lib/python3.10/dist-packages (from matplotlib>=3.0.0->mlxtend) (24.2)\n",
            "Requirement already satisfied: pillow>=6.2.0 in /usr/local/lib/python3.10/dist-packages (from matplotlib>=3.0.0->mlxtend) (11.0.0)\n",
            "Requirement already satisfied: pyparsing>=2.3.1 in /usr/local/lib/python3.10/dist-packages (from matplotlib>=3.0.0->mlxtend) (3.2.0)\n",
            "Requirement already satisfied: python-dateutil>=2.7 in /usr/local/lib/python3.10/dist-packages (from matplotlib>=3.0.0->mlxtend) (2.8.2)\n",
            "Requirement already satisfied: pytz>=2020.1 in /usr/local/lib/python3.10/dist-packages (from pandas>=0.24.2->mlxtend) (2024.2)\n",
            "Requirement already satisfied: tzdata>=2022.7 in /usr/local/lib/python3.10/dist-packages (from pandas>=0.24.2->mlxtend) (2024.2)\n",
            "Requirement already satisfied: threadpoolctl>=3.1.0 in /usr/local/lib/python3.10/dist-packages (from scikit-learn>=1.3.1->mlxtend) (3.5.0)\n",
            "Requirement already satisfied: six>=1.5 in /usr/local/lib/python3.10/dist-packages (from python-dateutil>=2.7->matplotlib>=3.0.0->mlxtend) (1.17.0)\n"
          ]
        }
      ]
    },
    {
      "cell_type": "code",
      "execution_count": 11,
      "metadata": {
        "colab": {
          "base_uri": "https://localhost:8080/"
        },
        "id": "5T8r6gPvD101",
        "outputId": "c29f77eb-f2ad-4eb6-ede7-b46b05571083"
      },
      "outputs": [
        {
          "output_type": "stream",
          "name": "stderr",
          "text": [
            "/usr/local/lib/python3.10/dist-packages/ipykernel/ipkernel.py:283: DeprecationWarning: `should_run_async` will not call `transform_cell` automatically in the future. Please pass the result to `transformed_cell` argument and any exception that happen during thetransform in `preprocessing_exc_tuple` in IPython 7.17 and above.\n",
            "  and should_run_async(code)\n"
          ]
        },
        {
          "output_type": "stream",
          "name": "stdout",
          "text": [
            "    support             itemsets\n",
            "0  0.020267            (almonds)\n",
            "1  0.008800  (antioxydant juice)\n",
            "2  0.033200            (avocado)\n",
            "3  0.008667              (bacon)\n",
            "4  0.010800     (barbecue sauce)\n"
          ]
        }
      ],
      "source": [
        "import pandas as pd\n",
        "from mlxtend.frequent_patterns import apriori, association_rules\n",
        "from mlxtend.preprocessing import TransactionEncoder\n",
        "\n",
        "# Load dataset\n",
        "file_path = \"/content/Online retail.xlsx\"  # Update with the correct path\n",
        "xls = pd.ExcelFile(file_path)\n",
        "df = pd.read_excel(xls, sheet_name=\"Sheet1\")\n",
        "\n",
        "# Data Preprocessing\n",
        "df.columns = [\"Transaction\"]  # Rename the single column\n",
        "df[\"Transaction\"] = df[\"Transaction\"].apply(lambda x: x.split(','))  # Convert string to list\n",
        "\n",
        "# Convert transactions to a format suitable for mlxtend\n",
        "te = TransactionEncoder()\n",
        "te_ary = te.fit(df[\"Transaction\"]).transform(df[\"Transaction\"])\n",
        "df_encoded = pd.DataFrame(te_ary, columns=te.columns_)\n",
        "\n",
        "# Apply Apriori algorithm\n",
        "min_support = 0.02\n",
        "frequent_itemsets = apriori(df_encoded, min_support=min_support, use_colnames=True)\n",
        "\n",
        "# Generate association rules\n",
        "min_confidence = 0.3\n",
        "rules = association_rules(frequent_itemsets, frequent_itemsets, metric=\"confidence\", min_threshold=min_confidence)\n",
        "frequent_itemsets = apriori(df_encoded, min_support=0.005, use_colnames=True)\n",
        "print(frequent_itemsets.head())\n",
        "frequent_itemsets = apriori(df_encoded, min_support=0.005, use_colnames=True)\n",
        "\n",
        "\n",
        "\n"
      ]
    },
    {
      "cell_type": "code",
      "source": [
        "# Display the results\n",
        "print(\"Top 10 Association Rules:\")\n",
        "print(rules.head(10))"
      ],
      "metadata": {
        "colab": {
          "base_uri": "https://localhost:8080/"
        },
        "id": "JFURwUUnGNuN",
        "outputId": "ac353520-3c8f-43eb-89de-9a5303f6eb04"
      },
      "execution_count": 12,
      "outputs": [
        {
          "output_type": "stream",
          "name": "stdout",
          "text": [
            "Top 10 Association Rules:\n",
            "           antecedents      consequents  antecedent support  \\\n",
            "0            (burgers)           (eggs)            0.087200   \n",
            "1               (cake)  (mineral water)            0.081067   \n",
            "2            (chicken)  (mineral water)            0.060000   \n",
            "3          (chocolate)  (mineral water)            0.163867   \n",
            "4        (cooking oil)  (mineral water)            0.051067   \n",
            "5    (frozen smoothie)  (mineral water)            0.063200   \n",
            "6  (frozen vegetables)  (mineral water)            0.095333   \n",
            "7        (ground beef)  (mineral water)            0.098267   \n",
            "8        (ground beef)      (spaghetti)            0.098267   \n",
            "9     (low fat yogurt)  (mineral water)            0.076400   \n",
            "\n",
            "   consequent support   support  confidence      lift  representativity  \\\n",
            "0            0.179733  0.028800    0.330275  1.837585               1.0   \n",
            "1            0.238267  0.027467    0.338816  1.422002               1.0   \n",
            "2            0.238267  0.022800    0.380000  1.594852               1.0   \n",
            "3            0.238267  0.052667    0.321400  1.348907               1.0   \n",
            "4            0.238267  0.020133    0.394256  1.654683               1.0   \n",
            "5            0.238267  0.020133    0.318565  1.337012               1.0   \n",
            "6            0.238267  0.035733    0.374825  1.573133               1.0   \n",
            "7            0.238267  0.040933    0.416554  1.748266               1.0   \n",
            "8            0.174133  0.039200    0.398915  2.290857               1.0   \n",
            "9            0.238267  0.023867    0.312391  1.311098               1.0   \n",
            "\n",
            "   leverage  conviction  zhangs_metric   jaccard  certainty  kulczynski  \n",
            "0  0.013127    1.224782       0.499351  0.120941   0.183528    0.245256  \n",
            "1  0.008151    1.152074       0.322947  0.094107   0.132000    0.227046  \n",
            "2  0.008504    1.228602       0.396790  0.082769   0.186067    0.237846  \n",
            "3  0.013623    1.122506       0.309351  0.150706   0.109136    0.271220  \n",
            "4  0.007966    1.257517       0.416947  0.074789   0.204782    0.239378  \n",
            "5  0.005075    1.117838       0.269069  0.071564   0.105416    0.201532  \n",
            "6  0.013019    1.218433       0.402718  0.119964   0.179273    0.262399  \n",
            "7  0.017520    1.305576       0.474647  0.138475   0.234054    0.294175  \n",
            "8  0.022088    1.373959       0.624888  0.168096   0.272176    0.312015  \n",
            "9  0.005663    1.107800       0.256908  0.082072   0.097310    0.206279  \n"
          ]
        },
        {
          "output_type": "stream",
          "name": "stderr",
          "text": [
            "/usr/local/lib/python3.10/dist-packages/ipykernel/ipkernel.py:283: DeprecationWarning: `should_run_async` will not call `transform_cell` automatically in the future. Please pass the result to `transformed_cell` argument and any exception that happen during thetransform in `preprocessing_exc_tuple` in IPython 7.17 and above.\n",
            "  and should_run_async(code)\n"
          ]
        }
      ]
    },
    {
      "cell_type": "code",
      "source": [
        "#interview Questions\n",
        "'''1. What is Lift and Why is it Important in Association Rules?\n",
        "Lift measures how much more likely two items are to be bought together compared to them being purchased independently.\n",
        "It helps determine the strength of an association rule.\n",
        "Lift(A⇒B) =  Support(A∪B)/Support(A)×Support(B)\n",
        "1. If Lift > 1, the items are positively correlated (stronger association).\n",
        "2. If Lift = 1, the items are independent (no relationship).\n",
        "3. If Lift < 1, the items are negatively correlated (less likely to be bought together).\n",
        "Helps in identifying useful associations that are more than just frequent occurrences.\n",
        "Can be used in recommendation systems (e.g., Amazon suggesting products).\n",
        "'''\n"
      ],
      "metadata": {
        "colab": {
          "base_uri": "https://localhost:8080/",
          "height": 129
        },
        "id": "yklbw1bjGQpX",
        "outputId": "daaabb48-71ed-4ace-8689-f5ea76555c31"
      },
      "execution_count": 16,
      "outputs": [
        {
          "output_type": "stream",
          "name": "stderr",
          "text": [
            "/usr/local/lib/python3.10/dist-packages/ipykernel/ipkernel.py:283: DeprecationWarning: `should_run_async` will not call `transform_cell` automatically in the future. Please pass the result to `transformed_cell` argument and any exception that happen during thetransform in `preprocessing_exc_tuple` in IPython 7.17 and above.\n",
            "  and should_run_async(code)\n"
          ]
        },
        {
          "output_type": "execute_result",
          "data": {
            "text/plain": [
              "'1. What is Lift and Why is it Important in Association Rules?\\nLift measures how much more likely two items are to be bought together compared to them being purchased independently. \\nIt helps determine the strength of an association rule.\\n1. If Lift > 1, the items are positively correlated (stronger association).\\n2. If Lift = 1, the items are independent (no relationship).\\n3. If Lift < 1, the items are negatively correlated (less likely to be bought together).'"
            ],
            "application/vnd.google.colaboratory.intrinsic+json": {
              "type": "string"
            }
          },
          "metadata": {},
          "execution_count": 16
        }
      ]
    },
    {
      "cell_type": "code",
      "source": [
        "'''2. What is Support and Confidence? How Do You Calculate Them?\n",
        "Support:\n",
        "Support measures how frequently an item or itemset appears in the dataset.\n",
        "Formula:\n",
        "Support(A) = Number of transactions containing A / Total transactions\n",
        "\n",
        "​Confidence:\n",
        "Confidence measures how often item B appears in transactions that already contain A.\n",
        "Formula:\n",
        "(𝐴⇒𝐵) =  Support(𝐴∪𝐵)/Support(𝐴)\n",
        "'''"
      ],
      "metadata": {
        "id": "X0TXE9K7HJK4"
      },
      "execution_count": null,
      "outputs": []
    },
    {
      "cell_type": "code",
      "source": [
        "'''3. What Are Some Limitations or Challenges of Association Rule Mining?\n",
        "Computational Complexity:\n",
        "Large datasets can have millions of item combinations, making rule mining slow and resource-intensive.\n",
        "Requires optimized algorithms like Apriori and FP-Growth to reduce processing time.\n",
        "\n",
        "Choosing the Right Support and Confidence Thresholds:\n",
        "Too high → Misses important rules.\n",
        "Too low → Generates too many trivial or noisy rules.\n",
        "Needs domain knowledge to set proper values.\n",
        "\n",
        "Redundant or Trivial Rules:\n",
        "Many generated rules may not be useful (e.g., \"Milk → Bread\" is obvious).\n",
        "Need filtering based on Lift or other metrics.\n",
        "\n",
        "Handling Rare Items (Data Sparsity Issue):\n",
        "Some important associations may have low support and be missed.\n",
        "Rare itemsets (e.g., luxury items) may not be captured unless thresholds are adjusted.\n",
        "\n",
        "Interpretability of Rules:\n",
        "A large number of rules can make it difficult to interpret and derive business insights.\n",
        "Needs visualization techniques like network graphs to make sense of relationships.\n",
        "'''"
      ],
      "metadata": {
        "id": "NWn2Uz5rL_OG"
      },
      "execution_count": null,
      "outputs": []
    }
  ]
}