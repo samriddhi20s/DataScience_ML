{
  "nbformat": 4,
  "nbformat_minor": 0,
  "metadata": {
    "colab": {
      "provenance": []
    },
    "kernelspec": {
      "name": "python3",
      "display_name": "Python 3"
    },
    "language_info": {
      "name": "python"
    }
  },
  "cells": [
    {
      "cell_type": "markdown",
      "source": [
        "Assignment Tasks"
      ],
      "metadata": {
        "id": "M_RxKPflGj0P"
      }
    },
    {
      "cell_type": "code",
      "source": [
        "import numpy as np\n",
        "from scipy.stats import t, norm\n",
        "\n",
        "# Data\n",
        "data = [1.13, 1.55, 1.43, 0.92, 1.25, 1.36, 1.32, 0.85, 1.07, 1.48, 1.20, 1.33, 1.18, 1.22, 1.29]\n",
        "\n",
        "#Task a: Build 99% Confidence Interval Using Sample Standard Deviation\n",
        "\n",
        "# Sample Mean and Sample Standard Deviation\n",
        "sample_mean = np.mean(data)\n",
        "sample_std = np.std(data, ddof=1)\n",
        "n = len(data)\n",
        "\n",
        "# t-value for 99% confidence interval\n",
        "confidence_level = 0.99\n",
        "alpha = 1 - confidence_level\n",
        "t_value = t.ppf(1 - alpha/2, df=n-1)\n",
        "\n",
        "# Margin of Error using sample standard deviation\n",
        "margin_of_error = t_value * (sample_std / np.sqrt(n))\n",
        "\n",
        "# Confidence Interval using sample standard deviation\n",
        "confidence_interval = (sample_mean - margin_of_error, sample_mean + margin_of_error)\n",
        "\n",
        "print(f\"Sample Mean: {sample_mean}\")\n",
        "print(f\"Sample Standard Deviation: {sample_std}\")\n",
        "print(f\"t-value: {t_value}\")\n",
        "print(f\"Margin of Error: {margin_of_error}\")\n",
        "print(f\"99% Confidence Interval: {confidence_interval}\")\n",
        "\n",
        "#Task b: Build 99% Confidence Interval Using Known Population Standard Deviation\n",
        "\n",
        "# z-value for 99% confidence interval\n",
        "z_value = norm.ppf(1 - alpha/2)\n",
        "\n",
        "# Known population standard deviation\n",
        "population_std = 0.2\n",
        "\n",
        "# Margin of Error using population standard deviation\n",
        "margin_of_error_population = z_value * (population_std / np.sqrt(n))\n",
        "\n",
        "# Confidence Interval using population standard deviation\n",
        "confidence_interval_population = (sample_mean - margin_of_error_population, sample_mean + margin_of_error_population)\n",
        "\n",
        "print(f\"z-value: {z_value}\")\n",
        "print(f\"Margin of Error (Population Std): {margin_of_error_population}\")\n",
        "print(f\"99% Confidence Interval (Population Std): {confidence_interval_population}\")\n"
      ],
      "metadata": {
        "colab": {
          "base_uri": "https://localhost:8080/"
        },
        "id": "Isp5oTn7Iqp0",
        "outputId": "bddc0259-b41a-4a7b-ee1e-b4f92bb7075c"
      },
      "execution_count": 8,
      "outputs": [
        {
          "output_type": "stream",
          "name": "stdout",
          "text": [
            "Sample Mean: 1.2386666666666666\n",
            "Sample Standard Deviation: 0.19316412956959936\n",
            "t-value: 2.976842734370834\n",
            "Margin of Error: 0.14846932822817596\n",
            "99% Confidence Interval: (1.0901973384384906, 1.3871359948948425)\n",
            "z-value: 2.5758293035489004\n",
            "Margin of Error (Population Std): 0.13301525327090588\n",
            "99% Confidence Interval (Population Std): (1.1056514133957607, 1.3716819199375725)\n"
          ]
        }
      ]
    }
  ]
}